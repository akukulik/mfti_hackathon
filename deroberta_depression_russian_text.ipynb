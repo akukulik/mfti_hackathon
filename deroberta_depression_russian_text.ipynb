{
 "cells": [
  {
   "cell_type": "markdown",
   "metadata": {
    "id": "VXBYBACh71AQ"
   },
   "source": [
    "# Проектный практикум МФТИ - Детекция признаков депрессии по постам в социальных сетях\n",
    "\n",
    "Проект разработан командой 8:\n",
    "\n",
    "- Артамонов Олег\n",
    "- Кулик Анастасия\n",
    "- Семерня Элина\n",
    "\n",
    "Для анализа текста используется предобученная модель deproberta-large-depression, классифицирующая текст на три категории:\n",
    "- \"Нет депрессии\"\n",
    "- \"Умеренная депрессия\"\n",
    "- \"Сильная депрессия\"\n",
    "\n",
    "Модель обрабатывает текст на английском языке. Для работы с русскими текстами применяется сервис машинного перевода Yandex Translate.\n",
    "\n"
   ]
  },
  {
   "cell_type": "markdown",
   "metadata": {
    "id": "CWZs3sFH12sy"
   },
   "source": [
    "### Импорт библиотек и настройка переменных окружения\n",
    "- Установите все необходимые пакеты\n",
    "- Зарегистрируйтесь на Yandex Cloud для получения API-ключа и идентификатора папки, чтобы использовать машинный перевод с русского текста на английский"
   ]
  },
  {
   "cell_type": "code",
   "execution_count": 17,
   "metadata": {
    "executionInfo": {
     "elapsed": 213,
     "status": "ok",
     "timestamp": 1734561813312,
     "user": {
      "displayName": "Анастасия Кулик",
      "userId": "15993371568353007556"
     },
     "user_tz": -180
    },
    "id": "E1zfVUi412bl"
   },
   "outputs": [],
   "source": [
    "import os\n",
    "import logging\n",
    "import torch\n",
    "from transformers import pipeline\n",
    "from transformers import AutoModel, AutoTokenizer\n",
    "from dataclasses import dataclass\n",
    "import requests\n",
    "from pprint import pprint\n",
    "\n",
    "from dotenv import load_dotenv"
   ]
  },
  {
   "cell_type": "code",
   "execution_count": null,
   "metadata": {
    "id": "c1dpKq-03qFs"
   },
   "outputs": [],
   "source": [
    "# Настройка логгера для вывода информации об ошибках\n",
    "logging.basicConfig(\n",
    "    format='%(asctime)s - %(name)s - %(levelname)s - %(message)s',\n",
    "    level=logging.DEBUG\n",
    ")\n",
    "logger = logging.getLogger(__name__)\n",
    "\n",
    "# Загрузка переменных окружения из .env файла\n",
    "load_dotenv()\n",
    "\n",
    "\n",
    "# Класс конфигурации для хранения настроек Yandex.Cloud\n",
    "class Config:\n",
    "    # API-ключ и идентификатор папки из Yandex.Cloud, полученные из переменных окружения\n",
    "    YANDEX_API_KEY = os.getenv('YANDEX_API_KEY')  # Ключ API\n",
    "    YANDEX_FOLDER_ID = os.getenv('YANDEX_FOLDER_ID')  # Идентификатор папки\n",
    "\n",
    "\n",
    "# Проверка наличия необходимых настроек. Если хотя бы одна из них отсутствует, выдается ошибка.\n",
    "if not Config.YANDEX_API_KEY or not Config.YANDEX_FOLDER_ID:\n",
    "  raise ValueError('Необходима авторизация в Yandex.Cloud')"
   ]
  },
  {
   "cell_type": "markdown",
   "metadata": {
    "id": "CcuJJay43zEK"
   },
   "source": [
    "### Подключаем сервис машинного перевода Yandex Translate"
   ]
  },
  {
   "cell_type": "code",
   "execution_count": null,
   "metadata": {
    "id": "JKVP4fDStOqt"
   },
   "outputs": [],
   "source": [
    "# Определяем структуру для хранения результата перевода.\n",
    "@dataclass\n",
    "class TranslationResult:\n",
    "    translated_text: str\n",
    "    detected_language: str\n",
    "    success: bool\n",
    "\n",
    "# Класс для работы с API Yandex Cloud Translation.\n",
    "class YandexTranslationService:\n",
    "    BASE_URL = 'https://translate.api.cloud.yandex.net/translate/v2'\n",
    "\n",
    "    def __init__(self, api_key: str, folder_id: str):\n",
    "        \"\"\"\n",
    "        Инициализация класса с использованием API-ключа и идентификатора папки.\n",
    "        \"\"\"\n",
    "        self.api_key = api_key  # API-ключ для авторизации в Yandex Cloud\n",
    "        self.folder_id = folder_id  # Идентификатор папки в Yandex Cloud\n",
    "        # Заголовки для запросов к API\n",
    "        self.headers = {\n",
    "            'Authorization': f'Api-Key {api_key}',\n",
    "            'Content-Type': 'application/json'\n",
    "        }\n",
    "\n",
    "    def translate_text(\n",
    "            self,\n",
    "            text: str,\n",
    "            target_language: str = 'en',\n",
    "            source_language: str = 'ru',\n",
    "    ) -> TranslationResult:\n",
    "        \"\"\"\n",
    "        Перевод текста с указанного исходного языка на целевой язык.\n",
    "        Возвращает объект `TranslationResult` с результатами перевода.\n",
    "        \"\"\"\n",
    "        try:\n",
    "            # Подготовка данных для запроса\n",
    "            payload = {\n",
    "                'folder_id': self.folder_id,\n",
    "                'texts': [text],\n",
    "                'targetLanguageCode': target_language,\n",
    "                'sourceLanguageCode': source_language,\n",
    "            }\n",
    "\n",
    "            # Отправка POST-запроса к API перевода\n",
    "            response = requests.post(\n",
    "                f'{self.BASE_URL}/translate',\n",
    "                headers=self.headers,\n",
    "                json=payload\n",
    "            )\n",
    "\n",
    "            # Проверяем, успешно ли завершился запрос\n",
    "            response.raise_for_status()\n",
    "            data = response.json()\n",
    "\n",
    "            # Проверяем, есть ли переводы в ответе\n",
    "            if not data.get('translations'):\n",
    "                raise ValueError('Переводы не были получены при переводе из API')\n",
    "\n",
    "            translation = data['translations'][0]\n",
    "\n",
    "            # Возвращаем успешный результат\n",
    "            return TranslationResult(\n",
    "                translated_text=translation['text'],\n",
    "                detected_language=translation.get('detectedLanguageCode', 'unknown'),\n",
    "                success=True\n",
    "            )\n",
    "\n",
    "        except Exception as e:\n",
    "            # Логируем ошибку, если что-то пошло не так\n",
    "            logger.error(f'Ошибка при переводе: {str(e)}')\n",
    "            return TranslationResult(\n",
    "                translated_text='',\n",
    "                detected_language='',\n",
    "                success=False\n",
    "            )\n",
    "\n",
    "    def detect_language(self, text: str) -> str | None:\n",
    "        \"\"\"\n",
    "        Определение языка исходного текста.\n",
    "        Возвращает код языка или `None` в случае ошибки.\n",
    "        \"\"\"\n",
    "        try:\n",
    "            # Подготовка данных для запроса\n",
    "            payload = {\n",
    "                'folder_id': self.folder_id,\n",
    "                'text': text\n",
    "            }\n",
    "\n",
    "            # Отправка POST-запроса к API определения языка\n",
    "            response = requests.post(\n",
    "                f'{self.BASE_URL}/detect',\n",
    "                headers=self.headers,\n",
    "                json=payload\n",
    "            )\n",
    "\n",
    "            # Проверяем, успешно ли завершился запрос\n",
    "            response.raise_for_status()\n",
    "            data = response.json()\n",
    "\n",
    "            # Возвращаем код определенного языка\n",
    "            return data.get('languageCode')\n",
    "\n",
    "        except Exception as e:\n",
    "            # Логируем ошибку, если что-то пошло не так\n",
    "            logger.error(f'Ошибка при распознавании языка: {str(e)}')\n",
    "\n",
    "\n",
    "# Создание экземпляра службы перевода с настройками из переменных окружения\n",
    "translation_service = YandexTranslationService(\n",
    "    api_key=Config.YANDEX_API_KEY,\n",
    "    folder_id=Config.YANDEX_FOLDER_ID,\n",
    ")\n"
   ]
  },
  {
   "cell_type": "markdown",
   "metadata": {
    "id": "3ZCCUVEc1qCY"
   },
   "source": [
    "### Запуск модели deproberta-large-depression"
   ]
  },
  {
   "cell_type": "code",
   "execution_count": 12,
   "metadata": {
    "executionInfo": {
     "elapsed": 1801,
     "status": "ok",
     "timestamp": 1734561626800,
     "user": {
      "displayName": "Анастасия Кулик",
      "userId": "15993371568353007556"
     },
     "user_tz": -180
    },
    "id": "Jyl_MJ5f70zk"
   },
   "outputs": [],
   "source": [
    "model = pipeline(\n",
    "    'text-classification',\n",
    "    'rafalposwiata/deproberta-large-depression',\n",
    "    device='cuda' if torch.cuda.is_available() else 'cpu',\n",
    ")"
   ]
  },
  {
   "cell_type": "code",
   "execution_count": 16,
   "metadata": {
    "colab": {
     "base_uri": "https://localhost:8080/"
    },
    "executionInfo": {
     "elapsed": 3409,
     "status": "ok",
     "timestamp": 1734561743635,
     "user": {
      "displayName": "Анастасия Кулик",
      "userId": "15993371568353007556"
     },
     "user_tz": -180
    },
    "id": "yyszYTqgfNlH",
    "outputId": "65a34718-b022-498d-bf30-a2993f4bbeea"
   },
   "outputs": [
    {
     "name": "stdout",
     "output_type": "stream",
     "text": [
      "[{'label': 'moderate', 'score': 0.8198707699775696}]\n"
     ]
    }
   ],
   "source": [
    "# Пример использования модели\n",
    "text = \"\"\"\n",
    "I'm very tired. Nothing pleases me in this life, I am tired of waking up every day to go to the office. I don't want to get out of bed.\n",
    "\"\"\"\n",
    "result = model(text)\n",
    "\n",
    "print(result)"
   ]
  },
  {
   "cell_type": "markdown",
   "metadata": {
    "id": "Oeg86G-g8P10"
   },
   "source": [
    "### Функция перевода русского текста в английский и получения результата детекции модели"
   ]
  },
  {
   "cell_type": "code",
   "execution_count": 18,
   "metadata": {
    "executionInfo": {
     "elapsed": 254,
     "status": "ok",
     "timestamp": 1734561982447,
     "user": {
      "displayName": "Анастасия Кулик",
      "userId": "15993371568353007556"
     },
     "user_tz": -180
    },
    "id": "QgyxuWXm8It3"
   },
   "outputs": [],
   "source": [
    "def get_depression_score(russian_text):\n",
    "  translation_result: TranslationResult = translation_service.translate_text(\n",
    "      text=source_text,\n",
    "      target_language='en',\n",
    "      source_language='ru',\n",
    "  )\n",
    "\n",
    "  english_text = translation_result.translated_text\n",
    "  result = model(english_text)\n",
    "\n",
    "  return result\n"
   ]
  },
  {
   "cell_type": "code",
   "execution_count": null,
   "metadata": {
    "id": "o6rgyDqx8IVz"
   },
   "outputs": [],
   "source": [
    "# Пример использования\n",
    "source_text = \"\"\"\n",
    "Я очень устал, меня ничего не радует в этой жизни, я хочу это все закончить.\n",
    "\"\"\"\n",
    "\n",
    "score = get_depression_score(source_text)\n",
    "print(score)"
   ]
  }
 ],
 "metadata": {
  "colab": {
   "provenance": []
  },
  "kernelspec": {
   "display_name": "Python 3 (ipykernel)",
   "language": "python",
   "name": "python3"
  },
  "language_info": {
   "codemirror_mode": {
    "name": "ipython",
    "version": 3
   },
   "file_extension": ".py",
   "mimetype": "text/x-python",
   "name": "python",
   "nbconvert_exporter": "python",
   "pygments_lexer": "ipython3",
   "version": "3.13.1"
  }
 },
 "nbformat": 4,
 "nbformat_minor": 4
}
